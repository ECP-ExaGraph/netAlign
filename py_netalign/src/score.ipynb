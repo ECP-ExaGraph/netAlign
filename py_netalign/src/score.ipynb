{
 "cells": [
  {
   "cell_type": "code",
   "execution_count": null,
   "metadata": {},
   "outputs": [],
   "source": [
    "import warnings\n",
    "import igraph as ig\n",
    "import networkx as nx\n",
    "import collections\n",
    "import scipy as sp\n",
    "import numpy as np\n",
    "import bMatching as bm\n",
    "import  Evaluation as ev\n",
    "import copy\n",
    "import importlib\n",
    "import matplotlib.pylab as plt\n",
    "import time\n",
    "import pickle5\n",
    "import sys\n",
    "import math\n",
    "import pandas as pd\n"
   ]
  },
  {
   "cell_type": "code",
   "execution_count": null,
   "metadata": {},
   "outputs": [],
   "source": [
    "input_dir=\"/home/khan242/netAlign/data/synthetic_networks/\"\n",
    "res_dir=\"/home/khan242/netAlign/results/synthetic_networks/danai/\"\n",
    "    \n",
    "    \n",
    "f1=\"yeast0_Y2H1.gw\"   #### Input network1\n",
    "f2=\"yeast5_Y2H1.gw\"   #### Input Netowrk2\n",
    "ft=\"true_node_mapping.txt\"  #### True node mapping (Ground Truth)\n",
    "AL=\"cone_yeast0_yeast5_Y2H1_0.aln\" #### Resultant Alignment\n",
    "\n",
    "#### Initialize evaluation class\n",
    "if ft is not None:  ### If Ground truth is known then Measure both F score and GS3 Score\n",
    "    AQ=ev.AlignmentQuality(input_dir+f1, input_dir+f2, res_dir+AL, input_dir+ft, None, None)\n",
    "else:  ### Otherwise, only GS3 score\n",
    "    AQ=ev.AlignmentQuality(input_dir+f1, input_dir+f2, res_dir+AL, None, None, None)\n",
    "    \n",
    "if AQ.true_mapping_set == None:\n",
    "    qual=AQ.evaluate(False,False,False,False,False,True,False,False,False,False)\n",
    "    score=qual[\"NCV-GS3\"]\n",
    "else:\n",
    "    qual=AQ.evaluate(False,False,True,False,False,True,False,False,False,False)\n",
    "    score=float(qual[\"F-NC\"])\n",
    "\n",
    "print('Score: ',score, qual)"
   ]
  },
  {
   "cell_type": "code",
   "execution_count": null,
   "metadata": {},
   "outputs": [],
   "source": [
    "t=pickle5.load(open('results_danai.pkl','rb'))"
   ]
  },
  {
   "cell_type": "code",
   "execution_count": null,
   "metadata": {},
   "outputs": [],
   "source": [
    "res=pd.DataFrame.from_dict(t,orient='index',columns=['k=5%','k=10%','k=25%','k=50%','k=100%'])"
   ]
  },
  {
   "cell_type": "code",
   "execution_count": null,
   "metadata": {},
   "outputs": [],
   "source": [
    "t"
   ]
  },
  {
   "cell_type": "code",
   "execution_count": null,
   "metadata": {},
   "outputs": [],
   "source": [
    "!ls"
   ]
  },
  {
   "cell_type": "code",
   "execution_count": null,
   "metadata": {},
   "outputs": [],
   "source": [
    "!../netalignmc/netalign/netAlign ../netalignmc/data-mtx/lcsh-small -o sc.aln\n",
    "f=open('sc.aln','r')\n",
    "t=[]\n",
    "for l in f:\n",
    "    l=l.strip('\\n')\n",
    "    l=l.split(' ')\n",
    "    t.append(int(l[1]))\n",
    "f.close()\n",
    "print(len(t),len(set(t)))"
   ]
  },
  {
   "cell_type": "code",
   "execution_count": null,
   "metadata": {},
   "outputs": [],
   "source": [
    "!rm sc.aln"
   ]
  },
  {
   "cell_type": "code",
   "execution_count": null,
   "metadata": {},
   "outputs": [],
   "source": [
    "q"
   ]
  }
 ],
 "metadata": {
  "kernelspec": {
   "display_name": "Python 3",
   "language": "python",
   "name": "python3"
  },
  "language_info": {
   "codemirror_mode": {
    "name": "ipython",
    "version": 3
   },
   "file_extension": ".py",
   "mimetype": "text/x-python",
   "name": "python",
   "nbconvert_exporter": "python",
   "pygments_lexer": "ipython3",
   "version": "3.6.9"
  }
 },
 "nbformat": 4,
 "nbformat_minor": 2
}
